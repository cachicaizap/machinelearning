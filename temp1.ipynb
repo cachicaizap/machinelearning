{
  "nbformat": 4,
  "nbformat_minor": 0,
  "metadata": {
    "colab": {
      "name": "Untitled0.ipynb",
      "provenance": [],
      "collapsed_sections": [],
      "authorship_tag": "ABX9TyMUil+5+/9o8QX55KykHCgE",
      "include_colab_link": true
    },
    "kernelspec": {
      "name": "python3",
      "display_name": "Python 3"
    },
    "language_info": {
      "name": "python"
    }
  },
  "cells": [
    {
      "cell_type": "markdown",
      "metadata": {
        "id": "view-in-github",
        "colab_type": "text"
      },
      "source": [
        "<a href=\"https://colab.research.google.com/github/cachicaizap/machinelearning/blob/main/temp1.ipynb\" target=\"_parent\"><img src=\"https://colab.research.google.com/assets/colab-badge.svg\" alt=\"Open In Colab\"/></a>"
      ]
    },
    {
      "cell_type": "code",
      "metadata": {
        "colab": {
          "base_uri": "https://localhost:8080/"
        },
        "id": "gYCVR5qWwOCD",
        "outputId": "22b534f6-c953-4946-d968-82fb5ef7fdfe"
      },
      "source": [
        "from google.colab import drive\n",
        "drive.mount('/content/drive')"
      ],
      "execution_count": 1,
      "outputs": [
        {
          "output_type": "stream",
          "name": "stdout",
          "text": [
            "Mounted at /content/drive\n"
          ]
        }
      ]
    },
    {
      "cell_type": "code",
      "metadata": {
        "id": "qK2u_dJgwXJD"
      },
      "source": [
        "import numpy as np\n",
        "import matplotlib.pyplot as plt\n",
        "import pandas as pd"
      ],
      "execution_count": 2,
      "outputs": []
    },
    {
      "cell_type": "code",
      "metadata": {
        "id": "CKQH7MX_xk3g"
      },
      "source": [
        "from sklearn.model_selection import train_test_split"
      ],
      "execution_count": 5,
      "outputs": []
    },
    {
      "cell_type": "code",
      "metadata": {
        "id": "IEnveuVGyY2p"
      },
      "source": [
        "from sklearn.linear_model import LinearRegression"
      ],
      "execution_count": 7,
      "outputs": []
    },
    {
      "cell_type": "markdown",
      "metadata": {
        "id": "jxOh2fRkwlJk"
      },
      "source": [
        "Importar data set"
      ]
    },
    {
      "cell_type": "code",
      "metadata": {
        "id": "JIQyKOWFwkpr"
      },
      "source": [
        "dataset=pd.read_csv(\"/content/drive/MyDrive/MachineLearning/Salary_Data.csv\")"
      ],
      "execution_count": 3,
      "outputs": []
    },
    {
      "cell_type": "code",
      "metadata": {
        "id": "tK4wRDJ2w8bd"
      },
      "source": [
        "X = dataset.iloc[:,:-1].values\n",
        "y = dataset.iloc[:,1].values"
      ],
      "execution_count": 4,
      "outputs": []
    },
    {
      "cell_type": "markdown",
      "metadata": {
        "id": "1VEigacbyvFX"
      },
      "source": [
        "Dividir dataset en datos de entrenamiento y datos de prueba"
      ]
    },
    {
      "cell_type": "code",
      "metadata": {
        "id": "1jMqNGERxorY"
      },
      "source": [
        "X_train,X_test,y_train,y_test = train_test_split(X, y, test_size=1/3, random_state=0)"
      ],
      "execution_count": 6,
      "outputs": []
    },
    {
      "cell_type": "code",
      "metadata": {
        "id": "Yj_S10GQyUk-"
      },
      "source": [
        "regression = LinearRegression()"
      ],
      "execution_count": 8,
      "outputs": []
    },
    {
      "cell_type": "markdown",
      "metadata": {
        "id": "jRlI3Wewy1FY"
      },
      "source": [
        "Creando el modelo"
      ]
    },
    {
      "cell_type": "code",
      "metadata": {
        "colab": {
          "base_uri": "https://localhost:8080/"
        },
        "id": "xlW3KJFlyjo8",
        "outputId": "c13e0bd7-3347-4535-ce7c-d4093371ab7a"
      },
      "source": [
        "regression.fit(X_train, y_train)"
      ],
      "execution_count": 9,
      "outputs": [
        {
          "output_type": "execute_result",
          "data": {
            "text/plain": [
              "LinearRegression(copy_X=True, fit_intercept=True, n_jobs=None, normalize=False)"
            ]
          },
          "metadata": {},
          "execution_count": 9
        }
      ]
    },
    {
      "cell_type": "markdown",
      "metadata": {
        "id": "gItWEY60y5Dj"
      },
      "source": [
        "Predecir"
      ]
    },
    {
      "cell_type": "code",
      "metadata": {
        "id": "JXIkguyIy6jm"
      },
      "source": [
        "y_pred = regression.predict(X_test)"
      ],
      "execution_count": 10,
      "outputs": []
    },
    {
      "cell_type": "markdown",
      "metadata": {
        "id": "C1snej7d0r3r"
      },
      "source": [
        "Visualizar los resultados"
      ]
    },
    {
      "cell_type": "code",
      "metadata": {
        "id": "tjDMKIUw3_pL"
      },
      "source": [
        "font = {'family': 'serif',\n",
        "        'color':  'darkred',\n",
        "        'weight': 'normal',\n",
        "        'size': 16,\n",
        "        }"
      ],
      "execution_count": 20,
      "outputs": []
    },
    {
      "cell_type": "code",
      "metadata": {
        "colab": {
          "base_uri": "https://localhost:8080/",
          "height": 298
        },
        "id": "xjeSTmCY0uTD",
        "outputId": "609f8df5-44fb-4027-f354-79145bd0cbe8"
      },
      "source": [
        "plt.scatter(X_train, y_train, color=\"red\")\n",
        "plt.plot(X_train, regression.predict(X_train), color=\"blue\")\n",
        "plt.title(\"Sueldos vs Años de trabajo / Datos de Entrenamiento\", fontdict= font)\n",
        "plt.xlabel(\"Años de Experiencia\")\n",
        "plt.ylabel(\"Sueldo del trabajador\")\n",
        "plt.show()"
      ],
      "execution_count": 22,
      "outputs": [
        {
          "output_type": "display_data",
          "data": {
            "image/png": "[encoded data removed]",
            "text/plain": [
              "<Figure size 432x288 with 1 Axes>"
            ]
          },
          "metadata": {
            "needs_background": "light"
          }
        }
      ]
    },
    {
      "cell_type": "markdown",
      "metadata": {
        "id": "0P5oOqs84Mbl"
      },
      "source": [
        "Visualizar los resultados de test"
      ]
    },
    {
      "cell_type": "code",
      "metadata": {
        "colab": {
          "base_uri": "https://localhost:8080/",
          "height": 298
        },
        "id": "cexP0VTA4Lj9",
        "outputId": "c27cf13b-df44-4bcd-8fd8-da408d5b99b9"
      },
      "source": [
        "plt.scatter(X_test, y_test, color=\"red\")\n",
        "plt.plot(X_train, regression.predict(X_train), color=\"blue\")\n",
        "plt.title(\"Sueldos vs Años de trabajo / Datos de Entrenamiento\", fontdict= font)\n",
        "plt.xlabel(\"Años de Experiencia\")\n",
        "plt.ylabel(\"Sueldo del trabajador\")\n",
        "plt.show()"
      ],
      "execution_count": 24,
      "outputs": [
        {
          "output_type": "display_data",
          "data": {
            "image/png": "[encoded data removed]",
            "text/plain": [
              "<Figure size 432x288 with 1 Axes>"
            ]
          },
          "metadata": {
            "needs_background": "light"
          }
        }
      ]
    }
  ]
}